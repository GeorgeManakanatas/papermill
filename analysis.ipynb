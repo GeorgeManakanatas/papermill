{
 "cells": [
  {
   "cell_type": "code",
   "execution_count": 1,
   "id": "c1bd0ae5-2d91-43b4-83a1-8ac0f79b757a",
   "metadata": {},
   "outputs": [],
   "source": [
    "import os\n",
    "import csv\n",
    "import pandas as pd\n",
    "import openpyxl\n",
    "\n",
    "\n",
    "interesting_file_types = [\"doc\",\"docx\",\"txt\",\"pdf\",\"xlsx\"]\n",
    "data_file_identifiers = [\"Data\",\"data analyse\",\"Environmental Data\",\"data\",\"data_analyse\",\"Environmental_Data\",\"environmental data\"]\n",
    "other_file_identifiers = [\"07 Other\",\"5. Gerelateerde documenten\",\"5 Geralateerde documenten\",\"Gerelateerde documenten\",\"08 KLAD\",\"08 Metadata Fiches\",\"9. Citizen science\",\"fact sheet\",\"5. Faseplan\",\"8. Faseplan\"]\n",
    "output_file_identifiers = [\"7. WO\",\"4. Wetenschappelijke Output\",\"4 Wetenschappelijke output\",\"06 Reports_scientific output\",\"4. WO\",\"4WO\",\"4 WO\",\"Wetenschappelijke output\",\"WO\",\"Resultaten\"]\n",
    "report_file_identifiers = [\"Rapportering\",\"rapportering\",\"Rapporten\",\"rapporten\",\"Reporting\",\"reporting\",\"Rapport\",\"Rapportage\",\"rapportage\",\"rapport\"]\n",
    "work_file_identifiers = [\"Werkdocumenten\",\"werkdocumenten\",\"Workdoc_Results\",\"Workdocs\",\"workdocs\",\"workdoc\",\"Workdoc\"]\n",
    "project_file_identifiers = [\"projectbeheer\",\"Projectbeheer\",\"projectmanagement\",\"Projectmanagement\",\"beheer\",\"Beheer\",\"administration\",\"Administration\",\"Administratie\",\"administratie\"]\n",
    "file_path = \"C:\\\\Users\\\\manakang\\\\Videos\\\\Repos\\\\papermill\\\\test_stuff\\\\drive_map_backup.csv\"\n",
    "output_file = \"C:\\\\Users\\\\manakang\\\\Videos\\\\Repos\\\\papermill\\\\test_stuff\\\\results.xlsx\""
   ]
  },
  {
   "cell_type": "raw",
   "id": "37c3014f-7d68-4285-9db4-f635c5d5320a",
   "metadata": {},
   "source": [
    "reading file and checking"
   ]
  },
  {
   "cell_type": "raw",
   "id": "86a72c17-8b05-4957-ac6f-d46fba9236a2",
   "metadata": {},
   "source": [
    "with open(file_path, 'r', encoding='UTF8') as f:\n",
    "    csv_reader = csv.reader(f)\n",
    "    print(len(list(csv_reader)))"
   ]
  },
  {
   "cell_type": "code",
   "execution_count": 2,
   "id": "abf9a901-3474-4afe-b3fb-98f70b927163",
   "metadata": {},
   "outputs": [],
   "source": [
    "unit_sct_df = pd.read_csv(file_path)"
   ]
  },
  {
   "cell_type": "code",
   "execution_count": 3,
   "id": "8efe6c28-2ac2-4da4-a878-65e03e98d6d9",
   "metadata": {},
   "outputs": [
    {
     "name": "stdout",
     "output_type": "stream",
     "text": [
      "(9735064, 2)\n"
     ]
    }
   ],
   "source": [
    "print(unit_sct_df.shape)\n",
    "# print(unit_sct_df.tail)\n",
    "# print(unit_sct_df.path.tail)\n",
    "# print(unit_sct_df.file.tail)\n",
    "# print(unit_sct_df.path.[unit_sct_df.index[-1]])\n",
    "# print(unit_sct_df.file.[unit_sct_df.index[-1]])"
   ]
  },
  {
   "cell_type": "code",
   "execution_count": 4,
   "id": "79fb1d8c-8d41-4b21-878d-13b0734d60be",
   "metadata": {},
   "outputs": [],
   "source": [
    "unit_sct_df['splitpath'] = unit_sct_df['path']"
   ]
  },
  {
   "cell_type": "code",
   "execution_count": 5,
   "id": "53aa5573-e471-4e77-8d6a-ba02ec140e99",
   "metadata": {},
   "outputs": [
    {
     "name": "stdout",
     "output_type": "stream",
     "text": [
      "<bound method NDFrame.tail of                                                       path            file  \\\n",
      "0                                              Y:\\Unit_SCT       .DS_Store   \n",
      "1                                              Y:\\Unit_SCT           creds   \n",
      "2                                              Y:\\Unit_SCT       Thumbs.db   \n",
      "3                                              Y:\\Unit_SCT  _OneBackup.lnk   \n",
      "4                                          Y:\\Unit_SCT\\BIO          result   \n",
      "...                                                    ...             ...   \n",
      "9735059  Y:\\Unit_SCT\\GOAL\\DataOR\\Masshunter\\data\\2019\\1...       quant.val   \n",
      "9735060  Y:\\Unit_SCT\\GOAL\\DataOR\\Masshunter\\data\\2019\\1...      rptdef.xls   \n",
      "9735061  Y:\\Unit_SCT\\GOAL\\DataOR\\Masshunter\\data\\2019\\1...        rteint.p   \n",
      "9735062  Y:\\Unit_SCT\\GOAL\\DataOR\\Masshunter\\data\\2019\\1...         tic.val   \n",
      "9735063  Y:\\Unit_SCT\\GOAL\\DataOR\\Masshunter\\data\\2019\\1...         win.pos   \n",
      "\n",
      "                                                 splitpath  \n",
      "0                                              Y:\\Unit_SCT  \n",
      "1                                              Y:\\Unit_SCT  \n",
      "2                                              Y:\\Unit_SCT  \n",
      "3                                              Y:\\Unit_SCT  \n",
      "4                                          Y:\\Unit_SCT\\BIO  \n",
      "...                                                    ...  \n",
      "9735059  Y:\\Unit_SCT\\GOAL\\DataOR\\Masshunter\\data\\2019\\1...  \n",
      "9735060  Y:\\Unit_SCT\\GOAL\\DataOR\\Masshunter\\data\\2019\\1...  \n",
      "9735061  Y:\\Unit_SCT\\GOAL\\DataOR\\Masshunter\\data\\2019\\1...  \n",
      "9735062  Y:\\Unit_SCT\\GOAL\\DataOR\\Masshunter\\data\\2019\\1...  \n",
      "9735063  Y:\\Unit_SCT\\GOAL\\DataOR\\Masshunter\\data\\2019\\1...  \n",
      "\n",
      "[9735064 rows x 3 columns]>\n"
     ]
    }
   ],
   "source": [
    "print(unit_sct_df.tail)"
   ]
  },
  {
   "cell_type": "raw",
   "id": "1a24c208-ee36-4329-a374-63c9518e5553",
   "metadata": {},
   "source": [
    "splitting path in individual folders"
   ]
  },
  {
   "cell_type": "code",
   "execution_count": 6,
   "id": "00697c83-ff19-48cb-8aa8-909c71917c0b",
   "metadata": {},
   "outputs": [],
   "source": [
    "unit_sct_df['splitpath'] = unit_sct_df['splitpath'].str.split(pat=\"\\\\\")"
   ]
  },
  {
   "cell_type": "code",
   "execution_count": 7,
   "id": "60996ff9-f10e-4c1f-8a8b-bfcf2d824d70",
   "metadata": {},
   "outputs": [],
   "source": [
    "# print(unit_sct_df['splitpath'][unit_sct_df.index[-1]])\n",
    "# print(type(unit_sct_df['splitpath'][unit_sct_df.index[-1]]))"
   ]
  },
  {
   "cell_type": "raw",
   "id": "229dd3d7-adee-4147-ab63-95d9477a6ca7",
   "metadata": {},
   "source": [
    "Getting the \"depth\" of the file path"
   ]
  },
  {
   "cell_type": "code",
   "execution_count": 8,
   "id": "25236bd6-c4b1-41f7-865f-3e9317e807e8",
   "metadata": {},
   "outputs": [],
   "source": [
    "unit_sct_df['folder_depth'] = unit_sct_df['splitpath'].map(len)"
   ]
  },
  {
   "cell_type": "code",
   "execution_count": 9,
   "id": "59357e6b-f7b1-4c27-9cf5-8c90fcfb0f82",
   "metadata": {},
   "outputs": [],
   "source": [
    "# print(unit_sct_df['folder_depth'][unit_sct_df.index[-1]])\n",
    "# print(unit_sct_df['folder_depth'].max())"
   ]
  },
  {
   "cell_type": "raw",
   "id": "69e322e9-1a91-43d7-88ff-953e963695fd",
   "metadata": {},
   "source": [
    "splitting the file to filename and file type"
   ]
  },
  {
   "cell_type": "code",
   "execution_count": 10,
   "id": "cf011a4d-4ace-4ec2-b8d1-2c82010149ba",
   "metadata": {},
   "outputs": [],
   "source": [
    "unit_sct_df['splitfile'] = unit_sct_df['file']\n",
    "unit_sct_df['splitfile'] = unit_sct_df['splitfile'].str.split(pat=\".\")\n",
    "unit_sct_df['file_split'] = unit_sct_df['splitfile'].map(len)\n",
    "# print(unit_sct_df['splitfile'][unit_sct_df.index[-1]])\n",
    "# print(type(unit_sct_df['splitfile'][unit_sct_df.index[-1]]))"
   ]
  },
  {
   "cell_type": "raw",
   "id": "02308a1b-6b9f-4cae-b94c-80951e4e3f1f",
   "metadata": {},
   "source": [
    "keeping only relevant file types"
   ]
  },
  {
   "cell_type": "code",
   "execution_count": 11,
   "id": "c0c109aa-3f95-4203-a41e-93b1c83cb588",
   "metadata": {},
   "outputs": [],
   "source": [
    "unit_sct_df = unit_sct_df.loc[unit_sct_df.splitfile.str[-1].isin(interesting_file_types)]\n",
    "# print(unit_sct_df.tail)"
   ]
  },
  {
   "cell_type": "raw",
   "id": "ed96a713-d37a-4387-a056-63fec347cf89",
   "metadata": {},
   "source": [
    "Trying to find projects\\\n",
    "Looking for project in the folder path\\\n",
    "and then looking for files with more than 6 digits in the name"
   ]
  },
  {
   "cell_type": "code",
   "execution_count": 12,
   "id": "deb01f33-ad7f-4c43-9661-1c325ecdcd86",
   "metadata": {},
   "outputs": [
    {
     "name": "stdout",
     "output_type": "stream",
     "text": [
      "(2757, 6)\n"
     ]
    }
   ],
   "source": [
    "# custom function to count digits\n",
    "def count_digits(string):\n",
    "    # cheking if enough digits\n",
    "    numbers = sum(c.isdigit() for c in string)\n",
    "    if numbers < 7:\n",
    "        return False\n",
    "    # checking if digits are sequential\n",
    "    counter = 0\n",
    "    for c in string:\n",
    "        if c.isdigit():\n",
    "            counter += 1\n",
    "            if counter >= 6:\n",
    "                return True\n",
    "        else:\n",
    "            counter = 0 \n",
    "    return False\n",
    "\n",
    "# looking for project keywords in folder path\n",
    "new_dataframe = unit_sct_df.loc[unit_sct_df.path.str.contains('|'.join(project_file_identifiers))]\n",
    "# counting digits in the file name\n",
    "new_dataframe = new_dataframe.loc[new_dataframe.file.apply(count_digits)]\n",
    "# creating excel\n",
    "with pd.ExcelWriter(output_file) as writer:\n",
    "    print(new_dataframe.shape)\n",
    "    new_dataframe.to_excel(writer, sheet_name='potential_projects', encoding='utf-8')"
   ]
  },
  {
   "cell_type": "raw",
   "id": "61bd8e2b-1ac0-48fa-bf29-2d3ea0049d88",
   "metadata": {},
   "source": [
    "Looking for other kinds of files on the drive"
   ]
  },
  {
   "cell_type": "code",
   "execution_count": 13,
   "id": "498fda2f-eaca-4592-aa9f-90420c8be02b",
   "metadata": {},
   "outputs": [
    {
     "name": "stdout",
     "output_type": "stream",
     "text": [
      "(3478, 6)\n",
      "(6, 6)\n",
      "(1569, 6)\n",
      "(5385, 6)\n",
      "(2, 6)\n",
      "(317, 6)\n"
     ]
    }
   ],
   "source": [
    "# Finding data files\n",
    "def files_to_excel(file_type,identifiers):\n",
    "    # find the files\n",
    "    new_sheet_name = str(file_type)+'_files'\n",
    "    new_dataframe = unit_sct_df.loc[unit_sct_df.file.str.contains('|'.join(identifiers))]\n",
    "    print(new_dataframe.shape)\n",
    "    # add sheet\n",
    "    with pd.ExcelWriter(output_file, mode='a', engine='openpyxl' ,engine_kwargs={'encoding':'utf-8'}) as writer:  \n",
    "        new_dataframe.to_excel(writer, sheet_name=new_sheet_name)\n",
    "        \n",
    "\n",
    "files_to_excel('data',data_file_identifiers)\n",
    "files_to_excel('other',other_file_identifiers)\n",
    "files_to_excel('output',output_file_identifiers)\n",
    "files_to_excel('report',report_file_identifiers)\n",
    "files_to_excel('work',work_file_identifiers)\n",
    "files_to_excel('project',project_file_identifiers)"
   ]
  },
  {
   "cell_type": "code",
   "execution_count": null,
   "id": "36930542-b038-473d-a8b8-5e140e0eb4e3",
   "metadata": {},
   "outputs": [],
   "source": []
  }
 ],
 "metadata": {
  "kernelspec": {
   "display_name": "Python 3 (ipykernel)",
   "language": "python",
   "name": "python3"
  },
  "language_info": {
   "codemirror_mode": {
    "name": "ipython",
    "version": 3
   },
   "file_extension": ".py",
   "mimetype": "text/x-python",
   "name": "python",
   "nbconvert_exporter": "python",
   "pygments_lexer": "ipython3",
   "version": "3.8.11"
  }
 },
 "nbformat": 4,
 "nbformat_minor": 5
}
