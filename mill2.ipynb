{
 "cells": [
  {
   "cell_type": "code",
   "execution_count": 1,
   "metadata": {
    "execution": {
     "iopub.execute_input": "2020-11-28T23:11:24.374224Z",
     "iopub.status.busy": "2020-11-28T23:11:24.373519Z",
     "iopub.status.idle": "2020-11-28T23:11:24.375833Z",
     "shell.execute_reply": "2020-11-28T23:11:24.376352Z"
    },
    "papermill": {
     "duration": 0.017194,
     "end_time": "2020-11-28T23:11:24.376506",
     "exception": false,
     "start_time": "2020-11-28T23:11:24.359312",
     "status": "completed"
    },
    "tags": [
     "parameters"
    ]
   },
   "outputs": [],
   "source": [
    "# mill 2 parameters\n",
    "alpha=0.1\n",
    "ratio=0.1"
   ]
  },
  {
   "cell_type": "code",
   "execution_count": 2,
   "metadata": {
    "execution": {
     "iopub.execute_input": "2020-11-28T23:11:24.390762Z",
     "iopub.status.busy": "2020-11-28T23:11:24.390064Z",
     "iopub.status.idle": "2020-11-28T23:11:24.395184Z",
     "shell.execute_reply": "2020-11-28T23:11:24.395711Z"
    },
    "papermill": {
     "duration": 0.014485,
     "end_time": "2020-11-28T23:11:24.395865",
     "exception": false,
     "start_time": "2020-11-28T23:11:24.381380",
     "status": "completed"
    },
    "tags": [
     "injected-parameters"
    ]
   },
   "outputs": [],
   "source": [
    "# Parameters\n",
    "alpha = 0.6\n",
    "ratio = 0.2\n"
   ]
  },
  {
   "cell_type": "code",
   "execution_count": 3,
   "metadata": {
    "execution": {
     "iopub.execute_input": "2020-11-28T23:11:24.410754Z",
     "iopub.status.busy": "2020-11-28T23:11:24.408872Z",
     "iopub.status.idle": "2020-11-28T23:11:24.420094Z",
     "shell.execute_reply": "2020-11-28T23:11:24.420672Z"
    },
    "papermill": {
     "duration": 0.020717,
     "end_time": "2020-11-28T23:11:24.420850",
     "exception": false,
     "start_time": "2020-11-28T23:11:24.400133",
     "status": "completed"
    },
    "tags": []
   },
   "outputs": [
    {
     "name": "stdout",
     "output_type": "stream",
     "text": [
      "mill one print parameters\n",
      "alpha:  0.6\n",
      "ratio:  0.2\n"
     ]
    }
   ],
   "source": [
    "print('mill one print parameters')\n",
    "print('alpha: ',alpha)\n",
    "print('ratio: ',ratio)"
   ]
  },
  {
   "cell_type": "code",
   "execution_count": null,
   "metadata": {
    "papermill": {
     "duration": 0.004877,
     "end_time": "2020-11-28T23:11:24.432751",
     "exception": false,
     "start_time": "2020-11-28T23:11:24.427874",
     "status": "completed"
    },
    "tags": []
   },
   "outputs": [],
   "source": []
  }
 ],
 "metadata": {
  "celltoolbar": "Tags",
  "kernelspec": {
   "display_name": "Python 3",
   "language": "python",
   "name": "python3"
  },
  "language_info": {
   "codemirror_mode": {
    "name": "ipython",
    "version": 3
   },
   "file_extension": ".py",
   "mimetype": "text/x-python",
   "name": "python",
   "nbconvert_exporter": "python",
   "pygments_lexer": "ipython3",
   "version": "3.7.3"
  },
  "papermill": {
   "default_parameters": {},
   "duration": 2.348247,
   "end_time": "2020-11-28T23:11:25.601077",
   "environment_variables": {},
   "exception": null,
   "input_path": "mill1.ipynb",
   "output_path": "mill2.ipynb",
   "parameters": {
    "alpha": 0.6,
    "ratio": 0.2
   },
   "start_time": "2020-11-28T23:11:23.252830",
   "version": "2.2.2"
  }
 },
 "nbformat": 4,
 "nbformat_minor": 2
}
