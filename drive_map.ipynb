{
 "cells": [
  {
   "cell_type": "markdown",
   "source": [
    "# Whole drive map"
   ],
   "metadata": {}
  },
  {
   "cell_type": "markdown",
   "source": [
    "### Imports & external variables."
   ],
   "metadata": {}
  },
  {
   "cell_type": "code",
   "execution_count": null,
   "source": [
    "import os\r\n",
    "import csv\r\n",
    "\r\n",
    "target_drive = 'C'\r\n",
    "interesting_file_types = [\".doc\",\".docx\",\".txt\",\".pdf\"]\r\n",
    "forbidden_file_paths = [\"I:\\GM\\Documents\\projects\",\"I:\\GM\\Documents\\Balabolka\"]\r\n",
    "output_path = './drive_analysis/outputs'"
   ],
   "outputs": [],
   "metadata": {
    "tags": [
     "parameters"
    ]
   }
  },
  {
   "cell_type": "markdown",
   "source": [],
   "metadata": {}
  },
  {
   "cell_type": "code",
   "execution_count": null,
   "source": [
    "base_path = target_drive+\":\\\\\"\r\n",
    "all_files_save = output_path+\"/drive_maps_\"+target_drive+\".csv\"\r\n",
    "interesting_files_save = output_path+\"/interesting_files_\"+target_drive+\".csv\"\r\n",
    "project_files_save = output_path+\"/project_files_\"+target_drive+\".csv\"\r\n",
    "files_list = []\r\n",
    "project_files = []\r\n",
    "non_project_files = []"
   ],
   "outputs": [],
   "metadata": {}
  },
  {
   "cell_type": "markdown",
   "source": [
    "### Getting all the files\n",
    "Using os.walk to get all the files and their paths. \\\n",
    "Storing the path and the file name in the array seperately in a tuple"
   ],
   "metadata": {}
  },
  {
   "cell_type": "code",
   "execution_count": null,
   "source": [
    "for root, dirs, files in os.walk(base_path):\r\n",
    "    for file in files:\r\n",
    "        entry = tuple([root,file])\r\n",
    "        files_list.append(entry)\r\n",
    "\r\n",
    "with open(all_files_save, 'w', newline='') as csv_file:\r\n",
    "        writer = csv.writer(csv_file, delimiter=',')\r\n",
    "        writer.writerow(['path','file'])\r\n",
    "        writer.writerows(files_list)\r\n",
    "        \r\n",
    "print('Number of files in the drive: ',str(len(files_list)))"
   ],
   "outputs": [],
   "metadata": {}
  },
  {
   "cell_type": "markdown",
   "source": [
    "## Removing the forbidden and irrelevant files"
   ],
   "metadata": {}
  },
  {
   "cell_type": "markdown",
   "source": [
    "### Forbidden folders\n",
    "Looping over the array checking the forbidden paths against each file's path.\\\n",
    "Anything that is in a forbidden folder path is removed."
   ],
   "metadata": {}
  },
  {
   "cell_type": "code",
   "execution_count": null,
   "source": [
    "for file in files_list:\r\n",
    "    for forbidden_path in forbidden_file_paths:\r\n",
    "        if forbidden_path in file[0]:\r\n",
    "            files_list.remove(file)\r\n",
    "\r\n",
    "print('Number of files in the allowed folder paths: ',str(len(files_list)))"
   ],
   "outputs": [],
   "metadata": {}
  },
  {
   "cell_type": "markdown",
   "source": [
    "### Irrelevant files\n",
    "Looping over the remaining elements and checking the file name's type.\\\n",
    "Anything not in the interesting file types is removed."
   ],
   "metadata": {}
  },
  {
   "cell_type": "code",
   "execution_count": null,
   "source": [
    "for file in files_list:\r\n",
    "#     print('For :',file)\r\n",
    "    remove_the_file = True\r\n",
    "    for file_type in interesting_file_types:\r\n",
    "        if file_type in file[1]:\r\n",
    "            # print('keeping: ',file[1])\r\n",
    "            remove_the_file = False\r\n",
    "    if remove_the_file:\r\n",
    "        # print('removing: ',file[1])\r\n",
    "        files_list.remove(file)\r\n",
    "#         print(len(files_list))\r\n",
    "#     else:\r\n",
    "#         print('Keeping ',file)\r\n",
    "\r\n",
    "with open(interesting_files_save, 'w', newline='') as csv_file:\r\n",
    "        writer = csv.writer(csv_file, delimiter=',')\r\n",
    "        writer.writerow(['path','file'])\r\n",
    "        writer.writerows(files_list)\r\n",
    "\r\n",
    "print('Number of interesting files in the allowed folder paths: ',str(len(files_list)))"
   ],
   "outputs": [],
   "metadata": {}
  },
  {
   "cell_type": "markdown",
   "source": [
    "## Proscessing the files left\n",
    "Looping over the interesting files.\\\n",
    "Counting the number of digits found in the file name.\\\n",
    "If the number of digits is between 6 and 8 there is a good chance that the file has a maconomy number.\\\n",
    "Adding it to the projects file array. Else adding it to the non projects array."
   ],
   "metadata": {}
  },
  {
   "cell_type": "code",
   "execution_count": null,
   "source": [
    "for file in files_list:\r\n",
    "    numbers = sum(c.isdigit() for c in file[1])\r\n",
    "    if 6 <= numbers <= 8:\r\n",
    "        project_files.append(file)\r\n",
    "    else:\r\n",
    "        non_project_files.append(file)\r\n",
    "        # print(file[1]+'  '+str(numbers))s\r\n",
    "\r\n",
    "with open(project_files_save, 'w', newline='') as csv_file:\r\n",
    "        writer = csv.writer(csv_file, delimiter=',')\r\n",
    "        writer.writerow(['path','file'])\r\n",
    "        writer.writerows(project_files)\r\n",
    "\r\n",
    "print('Number of project files in the drive: ',str(len(project_files)))"
   ],
   "outputs": [],
   "metadata": {}
  },
  {
   "cell_type": "markdown",
   "source": [
    "Looking to further refine the serarch. "
   ],
   "metadata": {}
  },
  {
   "cell_type": "code",
   "execution_count": null,
   "source": [
    "# Looking for key words "
   ],
   "outputs": [],
   "metadata": {}
  },
  {
   "cell_type": "markdown",
   "source": [],
   "metadata": {}
  },
  {
   "cell_type": "code",
   "execution_count": null,
   "source": [],
   "outputs": [],
   "metadata": {}
  },
  {
   "cell_type": "markdown",
   "source": [],
   "metadata": {}
  },
  {
   "cell_type": "code",
   "execution_count": null,
   "source": [],
   "outputs": [],
   "metadata": {}
  },
  {
   "cell_type": "markdown",
   "source": [],
   "metadata": {}
  },
  {
   "cell_type": "code",
   "execution_count": null,
   "source": [],
   "outputs": [],
   "metadata": {}
  }
 ],
 "metadata": {
  "kernelspec": {
   "display_name": "Python 3 (ipykernel)",
   "language": "python",
   "name": "python3"
  },
  "language_info": {
   "codemirror_mode": {
    "name": "ipython",
    "version": 3
   },
   "file_extension": ".py",
   "mimetype": "text/x-python",
   "name": "python",
   "nbconvert_exporter": "python",
   "pygments_lexer": "ipython3",
   "version": "3.8.11"
  }
 },
 "nbformat": 4,
 "nbformat_minor": 5
}