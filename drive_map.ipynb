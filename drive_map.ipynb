{
 "cells": [
  {
   "cell_type": "markdown",
   "id": "3ad2ed91",
   "metadata": {},
   "source": [
    "# Whole drive map"
   ]
  },
  {
   "cell_type": "markdown",
   "id": "282c7c6f",
   "metadata": {},
   "source": [
    "### Imports & external variables."
   ]
  },
  {
   "cell_type": "code",
   "execution_count": 1,
   "id": "6a1b09d7",
   "metadata": {
    "tags": [
     "parameters"
    ]
   },
   "outputs": [],
   "source": [
    "import os\n",
    "import csv\n",
    "import pandas as pd\n",
    "\n",
    "target_drive = \"Unit_SCT\"\n",
    "base_path=\"Y:\\\\\"\n",
    "output_path=\"C:\\\\Users\\\\manakang\\\\Videos\\\\Repos\\\\papermill\\\\outputs\\\\\"\n",
    "interesting_file_types = [\"doc\",\"docx\",\"txt\",\"pdf\",\"xlsx\"]\n",
    "data_file_identifiers = [\"Data\",\"data analyse\",\"Environmental Data\",\"data\",\"data_analyse\",\"Environmental_Data\",\"environmental data\"]\n",
    "other_file_identifiers = [\"07 Other\",\"5. Gerelateerde documenten\",\"5 Geralateerde documenten\",\"Gerelateerde documenten\",\"08 KLAD\",\"08 Metadata Fiches\",\"9. Citizen science\",\"fact sheet\",\"5. Faseplan\",\"8. Faseplan\"]\n",
    "output_file_identifiers = [\"7. WO\",\"4. Wetenschappelijke Output\",\"4 Wetenschappelijke output\",\"06 Reports_scientific output\",\"4. WO\",\"4WO\",\"4 WO\",\"Wetenschappelijke output\",\"WO\",\"Resultaten\"]\n",
    "report_file_identifiers = [\"Rapportering\",\"rapportering\",\"Rapporten\",\"rapporten\",\"Reporting\",\"reporting\",\"Rapport\",\"Rapportage\",\"rapportage\",\"rapport\"]\n",
    "work_file_identifiers = [\"Werkdocumenten\",\"werkdocumenten\",\"Workdoc_Results\",\"Workdocs\",\"workdocs\",\"workdoc\",\"Workdoc\"]\n",
    "project_file_identifiers = [\"projectbeheer\",\"Projectbeheer\",\"projectmanagement\",\"Projectmanagement\",\"beheer\",\"Beheer\",\"administration\",\"Administration\",\"Administratie\",\"administratie\",]"
   ]
  },
  {
   "cell_type": "markdown",
   "id": "c2d7e285",
   "metadata": {},
   "source": []
  },
  {
   "cell_type": "code",
   "execution_count": 2,
   "id": "40554c14",
   "metadata": {},
   "outputs": [
    {
     "name": "stdout",
     "output_type": "stream",
     "text": [
      "Unit_SCT\n",
      "Y:\\Unit_SCT\n",
      "C:\\Users\\manakang\\Videos\\Repos\\papermill\\outputs\\\n",
      "C:\\Users\\manakang\\Videos\\Repos\\papermill\\outputs\\drive_maps_Unit_SCT.csv\n",
      "C:\\Users\\manakang\\Videos\\Repos\\papermill\\outputs\\/interesting_files_Unit_SCT.csv\n",
      "C:\\Users\\manakang\\Videos\\Repos\\papermill\\outputs\\/project_files_Unit_SCT.csv\n"
     ]
    }
   ],
   "source": [
    "base_path = base_path+target_drive\n",
    "all_files_save = output_path+\"drive_maps_\"+target_drive+\".csv\"\n",
    "interesting_files_save = output_path+\"/interesting_files_\"+target_drive+\".csv\"\n",
    "project_files_save = output_path+\"/project_files_\"+target_drive+\".csv\"\n",
    "files_list = []\n",
    "project_files = []\n",
    "non_project_files = []\n",
    "\n",
    "print(target_drive)\n",
    "print(base_path)\n",
    "print(output_path)\n",
    "print(all_files_save)\n",
    "print(interesting_files_save)\n",
    "print(project_files_save)"
   ]
  },
  {
   "cell_type": "markdown",
   "id": "afb6f67e",
   "metadata": {},
   "source": [
    "### Getting all the files\n",
    "Using os.walk to get all the files and their paths. \\\\\n",
    "Storing the path and the file name in the array seperately in a tuple"
   ]
  },
  {
   "cell_type": "raw",
   "id": "a6e05ae2-6cb0-4ce0-bc98-d479200dcb7b",
   "metadata": {},
   "source": [
    "\n",
    "try:\n",
    "    with open(all_files_save, 'w', encoding=\"utf-8\", newline='') as csv_file:\n",
    "        writer = csv.writer(csv_file, delimiter=',')\n",
    "        writer.writerow(['path','file'])\n",
    "        for root, dirs, files in os.walk(base_path):\n",
    "            for file in files:\n",
    "                # check forbidden directories\n",
    "                for forbidden_path in forbidden_file_paths:\n",
    "                    if str(forbidden_path) not in str(root):\n",
    "                        entry = tuple([root,file])\n",
    "                        writer.writerow(entry)\n",
    "                    else:\n",
    "                        print(str(forbidden_path))\n",
    "                        print(str(root))\n",
    "except Exception as e:\n",
    "        print(e)\n",
    "\n",
    "# print('Number of files in the drive: ',str(len(files_list)))"
   ]
  },
  {
   "cell_type": "markdown",
   "id": "c3092932-4d38-4851-a6e8-6fd26c8e20b5",
   "metadata": {},
   "source": [
    "Reading the files from csv into a dataframe \\\n",
    "This is done because there are just too many files to practically scrape the entiredrive."
   ]
  },
  {
   "cell_type": "raw",
   "id": "7b0f00b0-6654-482d-b5af-3febefa743aa",
   "metadata": {},
   "source": [
    "with open(all_files_save, 'r', encoding='UTF8') as f:\n",
    "    csv_reader = csv.reader(f)\n",
    "    print(len(list(csv_reader)))"
   ]
  },
  {
   "cell_type": "code",
   "execution_count": 3,
   "id": "8858f750-9aee-402a-b801-2da5120e5bfc",
   "metadata": {},
   "outputs": [],
   "source": [
    "unit_sct_df = pd.read_csv(all_files_save)"
   ]
  },
  {
   "cell_type": "markdown",
   "id": "c97ba439-f93c-4151-abad-ca9140ba580b",
   "metadata": {},
   "source": [
    "Splitting path in individual folders"
   ]
  },
  {
   "cell_type": "code",
   "execution_count": null,
   "id": "1f8b5f51-a1bb-4451-8395-92d312dff934",
   "metadata": {},
   "outputs": [],
   "source": [
    "unit_sct_df['splitpath'] = unit_sct_df['path']\n",
    "unit_sct_df['splitpath'] = unit_sct_df['splitpath'].str.split(pat=\"\\\\\")\n",
    "# print(unit_sct_df.tail)"
   ]
  },
  {
   "cell_type": "markdown",
   "id": "5fba3693-ffc8-452b-8b9f-e4dc1ce4eeb4",
   "metadata": {},
   "source": [
    "Getting the \"depth\" of the file path"
   ]
  },
  {
   "cell_type": "code",
   "execution_count": null,
   "id": "010ed030-a957-4b09-966e-d969ce6973b8",
   "metadata": {},
   "outputs": [],
   "source": [
    "unit_sct_df['Length'] = unit_sct_df['splitpath'].map(len)\n",
    "# print(unit_sct_df['Length'][unit_sct_df.index[-1]])\n",
    "# print(unit_sct_df['Length'].max())"
   ]
  },
  {
   "cell_type": "markdown",
   "id": "443137a9-0483-4847-9b47-2c38f6feef27",
   "metadata": {},
   "source": [
    "Splitting the file to filename and file type"
   ]
  },
  {
   "cell_type": "code",
   "execution_count": null,
   "id": "6079d16b-07b4-48c1-97f3-d0e06b609ce7",
   "metadata": {},
   "outputs": [],
   "source": [
    "unit_sct_df['splitfile'] = unit_sct_df['file']\n",
    "unit_sct_df['splitfile'] = unit_sct_df['splitfile'].str.split(pat=\".\")\n",
    "# print(unit_sct_df['splitfile'][unit_sct_df.index[-1]])\n",
    "# print(unit_sct_df.tail)"
   ]
  },
  {
   "cell_type": "markdown",
   "id": "09a9bfee-9877-4d03-a22c-ffb9664fb3ca",
   "metadata": {},
   "source": [
    "keeping only relevant file types"
   ]
  },
  {
   "cell_type": "code",
   "execution_count": null,
   "id": "135d16cb-d8b5-4697-8999-69f4ce8f508b",
   "metadata": {},
   "outputs": [],
   "source": [
    "unit_sct_df = unit_sct_df.loc[unit_sct_df.splitfile.str[-1].isin(interesting_file_types)]\n",
    "# print(unit_sct_df.tail)"
   ]
  },
  {
   "cell_type": "code",
   "execution_count": null,
   "id": "5b76f074",
   "metadata": {},
   "outputs": [],
   "source": [
    "unit_sct_df = unit_sct_df.loc[unit_sct_df.splitfile.str[-1].isin(interesting_file_types)]\n",
    "# print(unit_sct_df.tail)"
   ]
  },
  {
   "cell_type": "markdown",
   "id": "4ba3567e-668d-453b-a241-04d9c0e24b45",
   "metadata": {},
   "source": [
    "Trying to find projects\\\n",
    "Looking for project in the folder path\\\n",
    "and then looking for files with more than 6 digits in the name"
   ]
  },
  {
   "cell_type": "code",
   "execution_count": null,
   "id": "90d6b67d",
   "metadata": {},
   "outputs": [],
   "source": [
    "# custom function to count digits\n",
    "def count_digits(string):\n",
    "    # cheking if enough digits\n",
    "    numbers = sum(c.isdigit() for c in string)\n",
    "    if numbers < 6:\n",
    "        return False\n",
    "    # checking if digits are sequential\n",
    "    counter = 0\n",
    "    for c in string:\n",
    "        if c.isdigit():\n",
    "            counter += 1\n",
    "            if counter >= 6:\n",
    "                return True\n",
    "        else:\n",
    "            counter = 0 \n",
    "    return False\n",
    "\n",
    "# looking for project keywords in folder path\n",
    "new_dataframe = unit_sct_df.loc[unit_sct_df.path.str.contains('|'.join(project_file_identifiers))]\n",
    "# counting digits in the file name\n",
    "new_dataframe = new_dataframe.loc[new_dataframe.file.apply(count_digits)]\n",
    "# creating excel\n",
    "with pd.ExcelWriter('results.xlsx') as writer:  \n",
    "    new_dataframe.to_excel(writer, sheet_name='project_files', encoding='utf-8')"
   ]
  },
  {
   "cell_type": "markdown",
   "id": "5ee76024",
   "metadata": {},
   "source": [
    "Looking for other kinds of files"
   ]
  },
  {
   "cell_type": "code",
   "execution_count": null,
   "id": "d7d7742a",
   "metadata": {},
   "outputs": [],
   "source": [
    "# Finding data files\n",
    "def files_to_excel(file_type,identifiers):\n",
    "    # find the files\n",
    "    new_sheet_name = str(file_type)+'_files'\n",
    "    new_dataframe = unit_sct_df.loc[unit_sct_df.file.str.contains('|'.join(identifiers))]\n",
    "    print(new_dataframe.shape)\n",
    "    # add sheet\n",
    "    with pd.ExcelWriter(output_file, mode='a', engine='openpyxl' ,engine_kwargs={'encoding':'utf-8'}) as writer:  \n",
    "        new_dataframe.to_excel(writer, sheet_name=new_sheet_name)\n",
    "        \n",
    "\n",
    "files_to_excel('data',data_file_identifiers)\n",
    "files_to_excel('other',other_file_identifiers)\n",
    "files_to_excel('output',output_file_identifiers)\n",
    "files_to_excel('report',report_file_identifiers)\n",
    "files_to_excel('work',work_file_identifiers)\n",
    "files_to_excel('project',project_file_identifiers)"
   ]
  },
  {
   "cell_type": "markdown",
   "id": "3c9b8097",
   "metadata": {},
   "source": []
  },
  {
   "cell_type": "code",
   "execution_count": null,
   "id": "fd606e56",
   "metadata": {},
   "outputs": [],
   "source": []
  }
 ],
 "metadata": {
  "interpreter": {
   "hash": "a944d06cc828e32c37ac39148f30543bcfa8d9c5b8affe18ccc0331829acb0ee"
  },
  "kernelspec": {
   "display_name": "Python 3 (ipykernel)",
   "language": "python",
   "name": "python3"
  },
  "language_info": {
   "codemirror_mode": {
    "name": "ipython",
    "version": 3
   },
   "file_extension": ".py",
   "mimetype": "text/x-python",
   "name": "python",
   "nbconvert_exporter": "python",
   "pygments_lexer": "ipython3",
   "version": "3.8.11"
  }
 },
 "nbformat": 4,
 "nbformat_minor": 5
}
