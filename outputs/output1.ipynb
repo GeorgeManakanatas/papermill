{
 "cells": [
  {
   "cell_type": "code",
   "execution_count": 1,
   "id": "unavailable-interface",
   "metadata": {
    "execution": {
     "iopub.execute_input": "2021-03-13T16:52:01.534965Z",
     "iopub.status.busy": "2021-03-13T16:52:01.531226Z",
     "iopub.status.idle": "2021-03-13T16:52:01.545403Z",
     "shell.execute_reply": "2021-03-13T16:52:01.544549Z"
    },
    "papermill": {
     "duration": 0.033124,
     "end_time": "2021-03-13T16:52:01.545603",
     "exception": false,
     "start_time": "2021-03-13T16:52:01.512479",
     "status": "completed"
    },
    "tags": [
     "parameters"
    ]
   },
   "outputs": [],
   "source": [
    "# mill 2 parameters\n",
    "alpha=0.1\n",
    "ratio=0.1"
   ]
  },
  {
   "cell_type": "code",
   "execution_count": 2,
   "id": "cubic-visit",
   "metadata": {
    "execution": {
     "iopub.execute_input": "2021-03-13T16:52:01.581791Z",
     "iopub.status.busy": "2021-03-13T16:52:01.581116Z",
     "iopub.status.idle": "2021-03-13T16:52:01.592368Z",
     "shell.execute_reply": "2021-03-13T16:52:01.591827Z"
    },
    "papermill": {
     "duration": 0.028311,
     "end_time": "2021-03-13T16:52:01.592507",
     "exception": false,
     "start_time": "2021-03-13T16:52:01.564196",
     "status": "completed"
    },
    "tags": [
     "injected-parameters"
    ]
   },
   "outputs": [],
   "source": [
    "# Parameters\n",
    "alpha = 0.6\n",
    "ratio = 0.2\n"
   ]
  },
  {
   "cell_type": "code",
   "execution_count": 3,
   "id": "intense-tours",
   "metadata": {
    "execution": {
     "iopub.execute_input": "2021-03-13T16:52:01.609672Z",
     "iopub.status.busy": "2021-03-13T16:52:01.608982Z",
     "iopub.status.idle": "2021-03-13T16:52:01.612891Z",
     "shell.execute_reply": "2021-03-13T16:52:01.612293Z"
    },
    "papermill": {
     "duration": 0.015516,
     "end_time": "2021-03-13T16:52:01.613003",
     "exception": false,
     "start_time": "2021-03-13T16:52:01.597487",
     "status": "completed"
    },
    "tags": []
   },
   "outputs": [
    {
     "name": "stdout",
     "output_type": "stream",
     "text": [
      "mill one print parameters\n",
      "alpha:  0.6\n",
      "ratio:  0.2\n"
     ]
    }
   ],
   "source": [
    "print('mill one print parameters')\n",
    "print('alpha: ',alpha)\n",
    "print('ratio: ',ratio)"
   ]
  },
  {
   "cell_type": "code",
   "execution_count": null,
   "id": "white-slovenia",
   "metadata": {
    "papermill": {
     "duration": 0.006737,
     "end_time": "2021-03-13T16:52:01.627292",
     "exception": false,
     "start_time": "2021-03-13T16:52:01.620555",
     "status": "completed"
    },
    "tags": []
   },
   "outputs": [],
   "source": []
  }
 ],
 "metadata": {
  "celltoolbar": "Tags",
  "kernelspec": {
   "display_name": "Python 3",
   "language": "python",
   "name": "python3"
  },
  "language_info": {
   "codemirror_mode": {
    "name": "ipython",
    "version": 3
   },
   "file_extension": ".py",
   "mimetype": "text/x-python",
   "name": "python",
   "nbconvert_exporter": "python",
   "pygments_lexer": "ipython3",
   "version": "3.8.5"
  },
  "papermill": {
   "default_parameters": {},
   "duration": 1.925383,
   "end_time": "2021-03-13T16:52:02.244135",
   "environment_variables": {},
   "exception": null,
   "input_path": "mill1.ipynb",
   "output_path": "outputs/output1.ipynb",
   "parameters": {
    "alpha": 0.6,
    "ratio": 0.2
   },
   "start_time": "2021-03-13T16:52:00.318752",
   "version": "2.3.3"
  }
 },
 "nbformat": 4,
 "nbformat_minor": 5
}