{
 "cells": [
  {
   "cell_type": "code",
   "execution_count": 1,
   "id": "arabic-preview",
   "metadata": {
    "execution": {
     "iopub.execute_input": "2021-03-13T16:52:04.133845Z",
     "iopub.status.busy": "2021-03-13T16:52:04.132309Z",
     "iopub.status.idle": "2021-03-13T16:52:04.138217Z",
     "shell.execute_reply": "2021-03-13T16:52:04.136528Z"
    },
    "papermill": {
     "duration": 0.04682,
     "end_time": "2021-03-13T16:52:04.138558",
     "exception": false,
     "start_time": "2021-03-13T16:52:04.091738",
     "status": "completed"
    },
    "tags": [
     "parameters"
    ]
   },
   "outputs": [],
   "source": [
    "# mill 2 parameters\n",
    "alpha=0.1\n",
    "ratio=0.1"
   ]
  },
  {
   "cell_type": "code",
   "execution_count": 2,
   "id": "ancient-technology",
   "metadata": {
    "execution": {
     "iopub.execute_input": "2021-03-13T16:52:04.170768Z",
     "iopub.status.busy": "2021-03-13T16:52:04.168965Z",
     "iopub.status.idle": "2021-03-13T16:52:04.177201Z",
     "shell.execute_reply": "2021-03-13T16:52:04.178348Z"
    },
    "papermill": {
     "duration": 0.028636,
     "end_time": "2021-03-13T16:52:04.178659",
     "exception": false,
     "start_time": "2021-03-13T16:52:04.150023",
     "status": "completed"
    },
    "tags": [
     "injected-parameters"
    ]
   },
   "outputs": [],
   "source": [
    "# Parameters\n",
    "alpha = 0.4\n",
    "ratio = 0.1\n"
   ]
  },
  {
   "cell_type": "code",
   "execution_count": 3,
   "id": "equal-librarian",
   "metadata": {
    "execution": {
     "iopub.execute_input": "2021-03-13T16:52:04.211772Z",
     "iopub.status.busy": "2021-03-13T16:52:04.210248Z",
     "iopub.status.idle": "2021-03-13T16:52:04.216870Z",
     "shell.execute_reply": "2021-03-13T16:52:04.215399Z"
    },
    "papermill": {
     "duration": 0.027118,
     "end_time": "2021-03-13T16:52:04.217170",
     "exception": false,
     "start_time": "2021-03-13T16:52:04.190052",
     "status": "completed"
    },
    "tags": []
   },
   "outputs": [
    {
     "name": "stdout",
     "output_type": "stream",
     "text": [
      "mill one print parameters\n",
      "alpha:  0.4\n",
      "ratio:  0.1\n"
     ]
    }
   ],
   "source": [
    "print('mill one print parameters')\n",
    "print('alpha: ',alpha)\n",
    "print('ratio: ',ratio)"
   ]
  },
  {
   "cell_type": "code",
   "execution_count": null,
   "id": "freelance-filing",
   "metadata": {
    "papermill": {
     "duration": 0.011985,
     "end_time": "2021-03-13T16:52:04.241059",
     "exception": false,
     "start_time": "2021-03-13T16:52:04.229074",
     "status": "completed"
    },
    "tags": []
   },
   "outputs": [],
   "source": []
  }
 ],
 "metadata": {
  "celltoolbar": "Tags",
  "kernelspec": {
   "display_name": "Python 3",
   "language": "python",
   "name": "python3"
  },
  "language_info": {
   "codemirror_mode": {
    "name": "ipython",
    "version": 3
   },
   "file_extension": ".py",
   "mimetype": "text/x-python",
   "name": "python",
   "nbconvert_exporter": "python",
   "pygments_lexer": "ipython3",
   "version": "3.8.5"
  },
  "papermill": {
   "default_parameters": {},
   "duration": 3.160794,
   "end_time": "2021-03-13T16:52:05.456525",
   "environment_variables": {},
   "exception": null,
   "input_path": "mill2.ipynb",
   "output_path": "outputs/output2.ipynb",
   "parameters": {
    "alpha": 0.4,
    "ratio": 0.1
   },
   "start_time": "2021-03-13T16:52:02.295731",
   "version": "2.2.2"
  }
 },
 "nbformat": 4,
 "nbformat_minor": 5
}